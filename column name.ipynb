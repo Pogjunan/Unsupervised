{
 "cells": [
  {
   "cell_type": "code",
   "execution_count": null,
   "id": "cd2f8c64-8856-4609-8f77-7b0ed516230c",
   "metadata": {},
   "outputs": [],
   "source": [
    "# column"
   ]
  },
  {
   "cell_type": "markdown",
   "id": "548b6b48-5271-42d3-a399-4c4b77f44722",
   "metadata": {
    "jp-MarkdownHeadingCollapsed": true
   },
   "source": [
    "## Age: 나이\n",
    "## Gender: 성별\n",
    "## Height: 키(미터)\n",
    "## Weight: 체중(kg)\n",
    "## CALC: 칼로리 섭취 빈도\n",
    "## FAVC: 과일/야채 섭취 여부\n",
    "## FCVC: 패스트푸드 섭취 빈도\n",
    "## NCP: 주간 육류 섭취 횟수\n",
    "## SCC: 특별한 칼로리 조절 여부\n",
    "## SMOKE: 흡연 여부\n",
    "## CH2O: 하루 물 섭취량\n",
    "## family_history_with_overweight: 과체중 가족력 여부\n",
    "## FAF: 신체 활동 빈도\n",
    "## TUE: 교통수단 사용 빈도\n",
    "## CAEC: 교통수단 사용 목적\n",
    "## MTRANS: 주요 교통수단\n",
    "## NObeyesdad(목표변수): 비만 수준"
   ]
  },
  {
   "cell_type": "code",
   "execution_count": null,
   "id": "ed5e7723-aa66-4909-a37c-bce6aaf53558",
   "metadata": {},
   "outputs": [],
   "source": []
  }
 ],
 "metadata": {
  "kernelspec": {
   "display_name": "",
   "name": ""
  },
  "language_info": {
   "name": ""
  }
 },
 "nbformat": 4,
 "nbformat_minor": 5
}
